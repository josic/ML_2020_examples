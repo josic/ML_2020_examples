{
 "cells": [
  {
   "cell_type": "code",
   "execution_count": 29,
   "metadata": {},
   "outputs": [],
   "source": [
    "from sklearn.datasets import make_regression\n",
    "from sklearn.linear_model import LinearRegression\n",
    "from sklearn.metrics import mean_squared_error\n",
    "import math\n",
    "\n",
    "# generate dataset\n",
    "n = 100 # number of data points\n",
    "variance = 0.01\n",
    "X, y = make_regression(n_samples=n, n_features=2, noise=math.sqrt(variance))\n",
    "# define and fit the model on all data"
   ]
  },
  {
   "cell_type": "code",
   "execution_count": 30,
   "metadata": {},
   "outputs": [
    {
     "data": {
      "text/plain": [
       "LinearRegression(copy_X=True, fit_intercept=False, n_jobs=None,\n",
       "         normalize=False)"
      ]
     },
     "execution_count": 30,
     "metadata": {},
     "output_type": "execute_result"
    }
   ],
   "source": [
    "# define and fit the model on all data\n",
    "model = LinearRegression()\n",
    "model_no_intercept = LinearRegression(fit_intercept=False)\n",
    "model.fit(X, y)\n",
    "model_no_intercept.fit(X, y)"
   ]
  },
  {
   "cell_type": "code",
   "execution_count": 31,
   "metadata": {},
   "outputs": [
    {
     "name": "stdout",
     "output_type": "stream",
     "text": [
      "Number of parameters: with intercept 3\n",
      "Number of parameters: with intercept 2\n"
     ]
    }
   ],
   "source": [
    "# number of parameters\n",
    "num_params = len(model.coef_) + 1\n",
    "num_params_no_intercept = len(model_no_intercept.coef_) \n",
    "print('Number of parameters: with intercept %d' % (num_params))\n",
    "print('Number of parameters: with intercept %d' % (num_params_no_intercept))"
   ]
  },
  {
   "cell_type": "code",
   "execution_count": 32,
   "metadata": {},
   "outputs": [
    {
     "name": "stdout",
     "output_type": "stream",
     "text": [
      "MSE: 0.010\n",
      "MSE no intercept: 0.010\n"
     ]
    }
   ],
   "source": [
    "# predict the training set\n",
    "yhat = model.predict(X)\n",
    "# calculate the error\n",
    "mse = mean_squared_error(y, yhat)\n",
    "print('MSE: %.3f' % mse)\n",
    "\n",
    "#predict the training set without intercept\n",
    "yhat_no = model_no_intercept.predict(X)\n",
    "mse_no = mean_squared_error(y, yhat_no)\n",
    "print('MSE no intercept: %.3f' % mse_no)"
   ]
  },
  {
   "cell_type": "code",
   "execution_count": 34,
   "metadata": {},
   "outputs": [],
   "source": [
    "\n",
    "\n",
    "#def calculate_ll(mse):\n",
    "#    ll = \n",
    "\n",
    "def calculate_aic(n, logl, num_params):\n",
    "    aic = 2 * num_params - 2 * logl  \n",
    "    return aic\n",
    "\n",
    "def calculate_aicc(n, logl, num_params):\n",
    "    aicc = 2 * num_params - 2 * logl + (2*num_params^2 + 2*num_params)/(n - num_params - 1)\n",
    "    return aicc\n",
    "\n",
    "def calculate_bic(n, logl, num_params):\n",
    "    bic = math.log(n)*num_params - 2 * logl\n",
    "    return bic"
   ]
  },
  {
   "cell_type": "code",
   "execution_count": 39,
   "metadata": {},
   "outputs": [
    {
     "name": "stdout",
     "output_type": "stream",
     "text": [
      "AIC with intercept: -172.105\n",
      "AIC with no intercept: -174.016\n",
      "AICC with intercept: -171.959\n",
      "BIC with intercept: -164.289\n"
     ]
    }
   ],
   "source": [
    "#Define the log likelihood for each model\n",
    "\n",
    "log_likelihood_intercept = -n/2 * math.log(2*math.pi*variance) - n*mse/(2*variance)\n",
    "log_likelihood__no_intercept = -n/2 * math.log(2*math.pi*variance) - n*mse_no/(2*variance)\n",
    "\n",
    "aic_i = calculate_aic(len(y), log_likelihood_intercept, num_params)\n",
    "aic_no_i = calculate_aic(len(y), log_likelihood__no_intercept, num_params_no_intercept)\n",
    "print('AIC with intercept: %.3f' % aic_i)\n",
    "print('AIC with no intercept: %.3f' % aic_no_i)\n",
    "\n",
    "aicc = calculate_aicc(len(y), log_likelihood_intercept, num_params)\n",
    "print('AICC with intercept: %.3f' % aicc)\n",
    "\n",
    "bic = calculate_bic(len(y), log_likelihood_intercept, num_params)\n",
    "print('BIC with intercept: %.3f' % bic)"
   ]
  },
  {
   "cell_type": "code",
   "execution_count": 41,
   "metadata": {},
   "outputs": [
    {
     "data": {
      "text/plain": [
       "89.05244811219299"
      ]
     },
     "execution_count": 41,
     "metadata": {},
     "output_type": "execute_result"
    }
   ],
   "source": [
    "log_likelihood_intercept"
   ]
  },
  {
   "cell_type": "code",
   "execution_count": null,
   "metadata": {},
   "outputs": [],
   "source": []
  }
 ],
 "metadata": {
  "kernelspec": {
   "display_name": "Python 3",
   "language": "python",
   "name": "python3"
  },
  "language_info": {
   "codemirror_mode": {
    "name": "ipython",
    "version": 3
   },
   "file_extension": ".py",
   "mimetype": "text/x-python",
   "name": "python",
   "nbconvert_exporter": "python",
   "pygments_lexer": "ipython3",
   "version": "3.7.3"
  }
 },
 "nbformat": 4,
 "nbformat_minor": 2
}
